{
 "cells": [
  {
   "cell_type": "markdown",
   "metadata": {},
   "source": [
    "## 04_07 - Using DSPY to optimize our critique/judge prompt\n",
    "We'll be creating a judge prompt to validate if our responses are strong."
   ]
  },
  {
   "cell_type": "markdown",
   "metadata": {},
   "source": [
    "### 0] Setting Up"
   ]
  },
  {
   "cell_type": "code",
   "execution_count": 1,
   "metadata": {},
   "outputs": [
    {
     "name": "stdout",
     "output_type": "stream",
     "text": [
      "Requirement already satisfied: pip in ./.venv/lib/python3.10/site-packages (24.1.2)\n",
      "Requirement already satisfied: dspy-ai in ./.venv/lib/python3.10/site-packages (2.4.12)\n",
      "Requirement already satisfied: openai~=0.28.1 in ./.venv/lib/python3.10/site-packages (0.28.1)\n",
      "Requirement already satisfied: transformers==4.42.0 in ./.venv/lib/python3.10/site-packages (4.42.0)\n",
      "Requirement already satisfied: datasets==2.20.0 in ./.venv/lib/python3.10/site-packages (2.20.0)\n",
      "Requirement already satisfied: filelock in ./.venv/lib/python3.10/site-packages (from transformers==4.42.0) (3.15.4)\n",
      "Requirement already satisfied: huggingface-hub<1.0,>=0.23.2 in ./.venv/lib/python3.10/site-packages (from transformers==4.42.0) (0.24.0)\n",
      "Requirement already satisfied: numpy<2.0,>=1.17 in ./.venv/lib/python3.10/site-packages (from transformers==4.42.0) (1.26.4)\n",
      "Requirement already satisfied: packaging>=20.0 in ./.venv/lib/python3.10/site-packages (from transformers==4.42.0) (24.1)\n",
      "Requirement already satisfied: pyyaml>=5.1 in ./.venv/lib/python3.10/site-packages (from transformers==4.42.0) (6.0.1)\n",
      "Requirement already satisfied: regex!=2019.12.17 in ./.venv/lib/python3.10/site-packages (from transformers==4.42.0) (2024.5.15)\n",
      "Requirement already satisfied: requests in ./.venv/lib/python3.10/site-packages (from transformers==4.42.0) (2.32.3)\n",
      "Requirement already satisfied: tokenizers<0.20,>=0.19 in ./.venv/lib/python3.10/site-packages (from transformers==4.42.0) (0.19.1)\n",
      "Requirement already satisfied: safetensors>=0.4.1 in ./.venv/lib/python3.10/site-packages (from transformers==4.42.0) (0.4.3)\n",
      "Requirement already satisfied: tqdm>=4.27 in ./.venv/lib/python3.10/site-packages (from transformers==4.42.0) (4.66.4)\n",
      "Requirement already satisfied: pyarrow>=15.0.0 in ./.venv/lib/python3.10/site-packages (from datasets==2.20.0) (17.0.0)\n",
      "Requirement already satisfied: pyarrow-hotfix in ./.venv/lib/python3.10/site-packages (from datasets==2.20.0) (0.6)\n",
      "Requirement already satisfied: dill<0.3.9,>=0.3.0 in ./.venv/lib/python3.10/site-packages (from datasets==2.20.0) (0.3.8)\n",
      "Requirement already satisfied: pandas in ./.venv/lib/python3.10/site-packages (from datasets==2.20.0) (2.2.2)\n",
      "Requirement already satisfied: xxhash in ./.venv/lib/python3.10/site-packages (from datasets==2.20.0) (3.4.1)\n",
      "Requirement already satisfied: multiprocess in ./.venv/lib/python3.10/site-packages (from datasets==2.20.0) (0.70.16)\n",
      "Requirement already satisfied: fsspec<=2024.5.0,>=2023.1.0 in ./.venv/lib/python3.10/site-packages (from fsspec[http]<=2024.5.0,>=2023.1.0->datasets==2.20.0) (2024.5.0)\n",
      "Requirement already satisfied: aiohttp in ./.venv/lib/python3.10/site-packages (from datasets==2.20.0) (3.9.5)\n",
      "Requirement already satisfied: backoff in ./.venv/lib/python3.10/site-packages (from dspy-ai) (2.2.1)\n",
      "Requirement already satisfied: joblib<=1.3.2 in ./.venv/lib/python3.10/site-packages (from dspy-ai) (1.3.2)\n",
      "Requirement already satisfied: optuna in ./.venv/lib/python3.10/site-packages (from dspy-ai) (3.6.1)\n",
      "Requirement already satisfied: pydantic~=2.0 in ./.venv/lib/python3.10/site-packages (from dspy-ai) (2.8.2)\n",
      "Requirement already satisfied: structlog in ./.venv/lib/python3.10/site-packages (from dspy-ai) (24.4.0)\n",
      "Requirement already satisfied: ujson in ./.venv/lib/python3.10/site-packages (from dspy-ai) (5.10.0)\n",
      "Requirement already satisfied: aiosignal>=1.1.2 in ./.venv/lib/python3.10/site-packages (from aiohttp->datasets==2.20.0) (1.3.1)\n",
      "Requirement already satisfied: attrs>=17.3.0 in ./.venv/lib/python3.10/site-packages (from aiohttp->datasets==2.20.0) (23.2.0)\n",
      "Requirement already satisfied: frozenlist>=1.1.1 in ./.venv/lib/python3.10/site-packages (from aiohttp->datasets==2.20.0) (1.4.1)\n",
      "Requirement already satisfied: multidict<7.0,>=4.5 in ./.venv/lib/python3.10/site-packages (from aiohttp->datasets==2.20.0) (6.0.5)\n",
      "Requirement already satisfied: yarl<2.0,>=1.0 in ./.venv/lib/python3.10/site-packages (from aiohttp->datasets==2.20.0) (1.9.4)\n",
      "Requirement already satisfied: async-timeout<5.0,>=4.0 in ./.venv/lib/python3.10/site-packages (from aiohttp->datasets==2.20.0) (4.0.3)\n",
      "Requirement already satisfied: typing-extensions>=3.7.4.3 in ./.venv/lib/python3.10/site-packages (from huggingface-hub<1.0,>=0.23.2->transformers==4.42.0) (4.12.2)\n",
      "Requirement already satisfied: annotated-types>=0.4.0 in ./.venv/lib/python3.10/site-packages (from pydantic~=2.0->dspy-ai) (0.7.0)\n",
      "Requirement already satisfied: pydantic-core==2.20.1 in ./.venv/lib/python3.10/site-packages (from pydantic~=2.0->dspy-ai) (2.20.1)\n",
      "Requirement already satisfied: charset-normalizer<4,>=2 in ./.venv/lib/python3.10/site-packages (from requests->transformers==4.42.0) (3.3.2)\n",
      "Requirement already satisfied: idna<4,>=2.5 in ./.venv/lib/python3.10/site-packages (from requests->transformers==4.42.0) (3.7)\n",
      "Requirement already satisfied: urllib3<3,>=1.21.1 in ./.venv/lib/python3.10/site-packages (from requests->transformers==4.42.0) (2.2.2)\n",
      "Requirement already satisfied: certifi>=2017.4.17 in ./.venv/lib/python3.10/site-packages (from requests->transformers==4.42.0) (2024.7.4)\n",
      "Requirement already satisfied: alembic>=1.5.0 in ./.venv/lib/python3.10/site-packages (from optuna->dspy-ai) (1.13.2)\n",
      "Requirement already satisfied: colorlog in ./.venv/lib/python3.10/site-packages (from optuna->dspy-ai) (6.8.2)\n",
      "Requirement already satisfied: sqlalchemy>=1.3.0 in ./.venv/lib/python3.10/site-packages (from optuna->dspy-ai) (2.0.31)\n",
      "Requirement already satisfied: python-dateutil>=2.8.2 in ./.venv/lib/python3.10/site-packages (from pandas->datasets==2.20.0) (2.9.0.post0)\n",
      "Requirement already satisfied: pytz>=2020.1 in ./.venv/lib/python3.10/site-packages (from pandas->datasets==2.20.0) (2024.1)\n",
      "Requirement already satisfied: tzdata>=2022.7 in ./.venv/lib/python3.10/site-packages (from pandas->datasets==2.20.0) (2024.1)\n",
      "Requirement already satisfied: Mako in ./.venv/lib/python3.10/site-packages (from alembic>=1.5.0->optuna->dspy-ai) (1.3.5)\n",
      "Requirement already satisfied: six>=1.5 in ./.venv/lib/python3.10/site-packages (from python-dateutil>=2.8.2->pandas->datasets==2.20.0) (1.16.0)\n",
      "Requirement already satisfied: greenlet!=0.4.17 in ./.venv/lib/python3.10/site-packages (from sqlalchemy>=1.3.0->optuna->dspy-ai) (3.0.3)\n",
      "Requirement already satisfied: MarkupSafe>=0.9.2 in ./.venv/lib/python3.10/site-packages (from Mako->alembic>=1.5.0->optuna->dspy-ai) (2.1.5)\n",
      "Note: you may need to restart the kernel to use updated packages.\n"
     ]
    },
    {
     "name": "stderr",
     "output_type": "stream",
     "text": [
      "/workspaces/grounding-techniques-for-llms-3896093/.venv/lib/python3.10/site-packages/tqdm/auto.py:21: TqdmWarning: IProgress not found. Please update jupyter and ipywidgets. See https://ipywidgets.readthedocs.io/en/stable/user_install.html\n",
      "  from .autonotebook import tqdm as notebook_tqdm\n"
     ]
    }
   ],
   "source": [
    "%pip install -U pip dspy-ai openai~=0.28.1 transformers==4.42.0 datasets==2.20.0\n",
    "import dspy\n",
    "import pandas as pd\n",
    "from datasets import load_dataset"
   ]
  },
  {
   "cell_type": "code",
   "execution_count": 2,
   "metadata": {},
   "outputs": [],
   "source": [
    "prompt_model_name = \"gpt-4o-mini\"\n",
    "prompt_model = dspy.OpenAI(model=prompt_model_name, max_tokens=1000, stop=[\"\\n\\n\", \"\\n---\"])\n",
    "task_model = dspy.OpenAI(model=prompt_model_name, max_tokens=1000, stop=[\"\\n\\n\", \"\\n---\", \"assistant\"])\n",
    "dspy.settings.configure(lm=task_model)"
   ]
  },
  {
   "cell_type": "markdown",
   "metadata": {},
   "source": [
    "### 1] Creating our dataset\n",
    "We'll be using ratings from \"nvidia/HelpSteer\" from huggingface to get our human annotated answers."
   ]
  },
  {
   "cell_type": "code",
   "execution_count": 3,
   "metadata": {},
   "outputs": [],
   "source": [
    "from datasets import load_dataset\n",
    "from dspy.datasets.dataloader import DataLoader\n",
    "\n",
    "train_ds, validation_ds, test_ds = load_dataset(\"nvidia/HelpSteer\",split=['train[0:100]+train[-50:-30]', 'train[100:200]+train[-30:-0]', 'validation[:100]+validation[-25:]'] )\n",
    " "
   ]
  },
  {
   "cell_type": "code",
   "execution_count": 4,
   "metadata": {},
   "outputs": [],
   "source": [
    "dataloader = DataLoader()\n",
    "def prepare_datasets(datasets:list):\n",
    "  new_datasets = []\n",
    "  for dataset in datasets:\n",
    "    dataset = pd.DataFrame(dataset)\n",
    "\n",
    "    dataset[\"question\"] = dataset[\"prompt\"]\n",
    "    dataset[\"response\"] = dataset[\"response\"]\n",
    "    dataset[\"answer\"] = dataset.apply(\n",
    "        lambda row: 'yes' if row['correctness'] > 3 and all(row[col] > 2 for col in ['helpfulness', 'coherence']) else 'no',\n",
    "        axis=1\n",
    "    )\n",
    "    dataset = dataset.drop(columns=['helpfulness', 'coherence', 'complexity', 'verbosity','correctness','prompt'])\n",
    "    \n",
    "    dataset = dataloader.from_pandas(df=dataset, fields=[\"question\", \"response\",\"answer\"],input_keys=[\"question\",\"response\"])\n",
    "    new_datasets.append(dataset)\n",
    "  return new_datasets \n"
   ]
  },
  {
   "cell_type": "code",
   "execution_count": 5,
   "metadata": {},
   "outputs": [],
   "source": [
    "train_ds, validation_ds, test_ds = prepare_datasets([train_ds, validation_ds, test_ds])"
   ]
  },
  {
   "cell_type": "markdown",
   "metadata": {},
   "source": [
    "### 2] Defining our LLM Judge\n",
    "We'll define our LLM judge as a program and compile it using our dataset"
   ]
  },
  {
   "cell_type": "code",
   "execution_count": 6,
   "metadata": {},
   "outputs": [],
   "source": [
    "class FactJudgeSignature(dspy.Signature):\n",
    "    \"\"\"Judge if the answer is factually correct based on the question.\"\"\"\n",
    "\n",
    "    question = dspy.InputField(desc=\"Question\")\n",
    "    response = dspy.InputField(desc=\"LLM response for the question\")\n",
    "    answer = dspy.OutputField(desc=\"Is the response answer factually correct based on the question? Yes or No.\")\n",
    "\n",
    "\n",
    "class Judge(dspy.Module):\n",
    "    def __init__(self):\n",
    "        super().__init__()\n",
    "        self.generate_answer = dspy.ChainOfThought(FactJudgeSignature)\n",
    "    \n",
    "    def forward(self,question, response):\n",
    "        return self.generate_answer(question=question,response=response)"
   ]
  },
  {
   "cell_type": "code",
   "execution_count": 7,
   "metadata": {},
   "outputs": [
    {
     "data": {
      "text/plain": [
       "[Example({'question': 'What are the three most important things to consider when deciding what technology to use to build an assist device to help an elderly person with basic needs?', 'response': \"To build an assistive device to help an elderly person with basic needs, one must consider three crucial things: safety, compatibility, and ease of use. Safety is paramount, as the device must not cause harm to the user. Compatibility with the user's environment and other devices is also essential. Finally, the device must be simple enough for the elderly person to operate.\", 'answer': 'yes'}) (input_keys={'response', 'question'})]"
      ]
     },
     "execution_count": 7,
     "metadata": {},
     "output_type": "execute_result"
    }
   ],
   "source": [
    "train_ds[0:1]"
   ]
  },
  {
   "cell_type": "markdown",
   "metadata": {},
   "source": [
    "### 3] Running our program\n",
    "\n",
    "Now let's run our evaluation and compile our judge"
   ]
  },
  {
   "cell_type": "code",
   "execution_count": 27,
   "metadata": {},
   "outputs": [],
   "source": [
    "from dspy.evaluate import Evaluate\n",
    "def validate_answer(answer,pred, trace=None):\n",
    "    return dspy.evaluate.answer_exact_match(answer,pred)\n",
    "\n",
    "judge = Judge()\n",
    "evaluate = Evaluate(devset=train_ds, metric=validate_answer,num_threads=4)\n",
    "baseline_train_score = evaluate(judge)\n",
    "baseline_val_score = evaluate(judge, devset=validation_ds)"
   ]
  },
  {
   "cell_type": "code",
   "execution_count": 28,
   "metadata": {},
   "outputs": [
    {
     "name": "stdout",
     "output_type": "stream",
     "text": [
      "Baseline train score: 45.0\n",
      "Baseline val score: 44.0\n"
     ]
    }
   ],
   "source": [
    "print(\"Baseline train score:\", baseline_train_score)\n",
    "print(\"Baseline val score:\", baseline_val_score)"
   ]
  },
  {
   "cell_type": "markdown",
   "metadata": {},
   "source": [
    "### 4] Compiling a program with a teleprompter\n",
    "\n",
    "So far we've just used a regular prompt to get an answer, let's have DSPY try to optimize our prompts. We'll need to define a search technique called a **teleprompter** and a teacher model to construct the demontrations. "
   ]
  },
  {
   "cell_type": "code",
   "execution_count": 29,
   "metadata": {},
   "outputs": [
    {
     "name": "stdout",
     "output_type": "stream",
     "text": [
      "Going to sample between 1 and 5 traces per predictor.\n",
      "Will attempt to bootstrap 5 candidate sets.\n"
     ]
    }
   ],
   "source": [
    "from dspy.teleprompt import BootstrapFewShotWithRandomSearch\n",
    "\n",
    "# we'll generate an number of programs in parralel when compiling using gpt4omini as an evaluator\n",
    "bootstrap_optimizer = BootstrapFewShotWithRandomSearch(\n",
    "    max_bootstrapped_demos=5,\n",
    "    max_labeled_demos=5,\n",
    "    num_candidate_programs=5,\n",
    "    num_threads=8,\n",
    "    metric=validate_answer,\n",
    "    teacher_settings=dict(lm=prompt_model))"
   ]
  },
  {
   "cell_type": "code",
   "execution_count": 30,
   "metadata": {},
   "outputs": [
    {
     "name": "stderr",
     "output_type": "stream",
     "text": [
      "Average Metric: 44 / 100  (44.0): 100%|██████████| 100/100 [00:00<00:00, 1165.45it/s]\n"
     ]
    },
    {
     "name": "stdout",
     "output_type": "stream",
     "text": [
      "Score: 44.0 for set: [0]\n",
      "New best sscore: 44.0 for seed -3\n",
      "Scores so far: [44.0]\n",
      "Best score: 44.0\n"
     ]
    },
    {
     "name": "stderr",
     "output_type": "stream",
     "text": [
      "Average Metric: 47 / 100  (47.0): 100%|██████████| 100/100 [00:24<00:00,  4.03it/s]\n"
     ]
    },
    {
     "name": "stdout",
     "output_type": "stream",
     "text": [
      "Score: 47.0 for set: [5]\n",
      "New best sscore: 47.0 for seed -2\n",
      "Scores so far: [44.0, 47.0]\n",
      "Best score: 47.0\n"
     ]
    },
    {
     "name": "stderr",
     "output_type": "stream",
     "text": [
      " 14%|█▍        | 17/120 [00:39<04:01,  2.34s/it]\n"
     ]
    },
    {
     "name": "stdout",
     "output_type": "stream",
     "text": [
      "Bootstrapped 5 full traces after 18 examples in round 0.\n"
     ]
    },
    {
     "name": "stderr",
     "output_type": "stream",
     "text": [
      "Average Metric: 54 / 100  (54.0): 100%|██████████| 100/100 [00:30<00:00,  3.32it/s]\n"
     ]
    },
    {
     "name": "stdout",
     "output_type": "stream",
     "text": [
      "Score: 54.0 for set: [5]\n",
      "New best sscore: 54.0 for seed -1\n",
      "Scores so far: [44.0, 47.0, 54.0]\n",
      "Best score: 54.0\n",
      "Average of max per entry across top 1 scores: 0.54\n",
      "Average of max per entry across top 2 scores: 0.59\n",
      "Average of max per entry across top 3 scores: 0.6\n",
      "Average of max per entry across top 5 scores: 0.6\n",
      "Average of max per entry across top 8 scores: 0.6\n",
      "Average of max per entry across top 9999 scores: 0.6\n"
     ]
    },
    {
     "name": "stderr",
     "output_type": "stream",
     "text": [
      " 16%|█▌        | 19/120 [00:40<03:33,  2.11s/it]\n"
     ]
    },
    {
     "name": "stdout",
     "output_type": "stream",
     "text": [
      "Bootstrapped 4 full traces after 20 examples in round 0.\n"
     ]
    },
    {
     "name": "stderr",
     "output_type": "stream",
     "text": [
      "Average Metric: 52 / 100  (52.0): 100%|██████████| 100/100 [00:27<00:00,  3.58it/s]\n"
     ]
    },
    {
     "name": "stdout",
     "output_type": "stream",
     "text": [
      "Score: 52.0 for set: [5]\n",
      "Scores so far: [44.0, 47.0, 54.0, 52.0]\n",
      "Best score: 54.0\n",
      "Average of max per entry across top 1 scores: 0.54\n",
      "Average of max per entry across top 2 scores: 0.58\n",
      "Average of max per entry across top 3 scores: 0.6\n",
      "Average of max per entry across top 5 scores: 0.61\n",
      "Average of max per entry across top 8 scores: 0.61\n",
      "Average of max per entry across top 9999 scores: 0.61\n"
     ]
    },
    {
     "name": "stderr",
     "output_type": "stream",
     "text": [
      "  2%|▎         | 3/120 [00:06<04:13,  2.17s/it]\n"
     ]
    },
    {
     "name": "stdout",
     "output_type": "stream",
     "text": [
      "Bootstrapped 2 full traces after 4 examples in round 0.\n"
     ]
    },
    {
     "name": "stderr",
     "output_type": "stream",
     "text": [
      "Average Metric: 59 / 100  (59.0): 100%|██████████| 100/100 [00:28<00:00,  3.57it/s]\n"
     ]
    },
    {
     "name": "stdout",
     "output_type": "stream",
     "text": [
      "Score: 59.0 for set: [5]\n",
      "New best sscore: 59.0 for seed 1\n",
      "Scores so far: [44.0, 47.0, 54.0, 52.0, 59.0]\n",
      "Best score: 59.0\n",
      "Average of max per entry across top 1 scores: 0.59\n",
      "Average of max per entry across top 2 scores: 0.62\n",
      "Average of max per entry across top 3 scores: 0.64\n",
      "Average of max per entry across top 5 scores: 0.65\n",
      "Average of max per entry across top 8 scores: 0.65\n",
      "Average of max per entry across top 9999 scores: 0.65\n"
     ]
    },
    {
     "name": "stderr",
     "output_type": "stream",
     "text": [
      "  1%|          | 1/120 [00:01<03:10,  1.60s/it]\n"
     ]
    },
    {
     "name": "stdout",
     "output_type": "stream",
     "text": [
      "Bootstrapped 1 full traces after 2 examples in round 0.\n"
     ]
    },
    {
     "name": "stderr",
     "output_type": "stream",
     "text": [
      "Average Metric: 57 / 100  (57.0): 100%|██████████| 100/100 [00:23<00:00,  4.21it/s]\n"
     ]
    },
    {
     "name": "stdout",
     "output_type": "stream",
     "text": [
      "Score: 57.0 for set: [5]\n",
      "Scores so far: [44.0, 47.0, 54.0, 52.0, 59.0, 57.0]\n",
      "Best score: 59.0\n",
      "Average of max per entry across top 1 scores: 0.59\n",
      "Average of max per entry across top 2 scores: 0.63\n",
      "Average of max per entry across top 3 scores: 0.65\n",
      "Average of max per entry across top 5 scores: 0.66\n",
      "Average of max per entry across top 8 scores: 0.66\n",
      "Average of max per entry across top 9999 scores: 0.66\n"
     ]
    },
    {
     "name": "stderr",
     "output_type": "stream",
     "text": [
      "  3%|▎         | 4/120 [00:07<03:40,  1.90s/it]\n"
     ]
    },
    {
     "name": "stdout",
     "output_type": "stream",
     "text": [
      "Bootstrapped 2 full traces after 5 examples in round 0.\n"
     ]
    },
    {
     "name": "stderr",
     "output_type": "stream",
     "text": [
      "Average Metric: 52 / 100  (52.0): 100%|██████████| 100/100 [00:26<00:00,  3.83it/s]\n"
     ]
    },
    {
     "name": "stdout",
     "output_type": "stream",
     "text": [
      "Score: 52.0 for set: [5]\n",
      "Scores so far: [44.0, 47.0, 54.0, 52.0, 59.0, 57.0, 52.0]\n",
      "Best score: 59.0\n",
      "Average of max per entry across top 1 scores: 0.59\n",
      "Average of max per entry across top 2 scores: 0.63\n",
      "Average of max per entry across top 3 scores: 0.65\n",
      "Average of max per entry across top 5 scores: 0.67\n",
      "Average of max per entry across top 8 scores: 0.67\n",
      "Average of max per entry across top 9999 scores: 0.67\n"
     ]
    },
    {
     "name": "stderr",
     "output_type": "stream",
     "text": [
      "  2%|▎         | 3/120 [00:05<03:32,  1.81s/it]\n"
     ]
    },
    {
     "name": "stdout",
     "output_type": "stream",
     "text": [
      "Bootstrapped 2 full traces after 4 examples in round 0.\n"
     ]
    },
    {
     "name": "stderr",
     "output_type": "stream",
     "text": [
      "Average Metric: 50 / 100  (50.0): 100%|██████████| 100/100 [00:27<00:00,  3.64it/s]"
     ]
    },
    {
     "name": "stdout",
     "output_type": "stream",
     "text": [
      "Score: 50.0 for set: [5]\n",
      "Scores so far: [44.0, 47.0, 54.0, 52.0, 59.0, 57.0, 52.0, 50.0]\n",
      "Best score: 59.0\n",
      "Average of max per entry across top 1 scores: 0.59\n",
      "Average of max per entry across top 2 scores: 0.63\n",
      "Average of max per entry across top 3 scores: 0.65\n",
      "Average of max per entry across top 5 scores: 0.67\n",
      "Average of max per entry across top 8 scores: 0.69\n",
      "Average of max per entry across top 9999 scores: 0.69\n",
      "8 candidate programs found.\n"
     ]
    },
    {
     "name": "stderr",
     "output_type": "stream",
     "text": [
      "\n"
     ]
    }
   ],
   "source": [
    "cot_fewshot = bootstrap_optimizer.compile(Judge(), trainset=train_ds, valset=validation_ds)"
   ]
  },
  {
   "cell_type": "code",
   "execution_count": 31,
   "metadata": {},
   "outputs": [
    {
     "name": "stdout",
     "output_type": "stream",
     "text": [
      "\n",
      "\n",
      "\n",
      "Judge if the answer is factually correct based on the question.\n",
      "\n",
      "---\n",
      "\n",
      "Question: What is the most congested traffic intersection in the world? How bad is the traffic there?\n",
      "Response: The most congested traffic intersection in the world is the Shibuya scramble crossing in Tokyo, Japan. It is estimated that over 2,500 people cross the intersection at once during peak hours.\n",
      "Answer: no\n",
      "\n",
      "Question: Background: <start of reference> As the smoke cleared, Enzi saw the Storm Queen laying on the ground. Miraculously she was still in one piece. Enzi wondered what kind of protections it took to survive such a blast. It did not matter, however. She was obviously unconscious and no longer of any help. Aldebaran grunted as he saw the new foes enter the fray. His fur was already matted with blood and sweat. Usually bovine did not noticeably sweat, but obviously something in the creation of the minotaur gave him a more human reaction to severe exertion. Eurysa had run out of arrows. Any potential supplies were far out of reach. It was time for her to use her abilities, much the same as Enzi's need now that the situation was dire. Ritter was engaged in a hard battle with some of the more heavily armored Ravaleians. His hammer was quite effective against them. The Halz deflected many blows with his shield. He did not tire as easily as the rest of the group, but even he saw that it was only a matter of time. He remembered the last battle with a golem. The minotaur remembered it in a very different way. He had missed much of that battle, but only because of how badly the golems had wounded him. Mayitso dashed through the ranks of the enemy, avoiding the golems. The lycanthrope would have trouble harming the constructs, but Mayitso's natural toughness might be one of the few things to save the group. Kava, of course, was the only person in the area enjoying herself. The vodyanoi was prancing through the battlefield, leaping from foe to foe while hacking with her hatchets. The smell of blood filled the air as did the wailing of the wounded. It was the kind of thing that made Kava grin widely. With a maw like hers, such a grin was rather disconcerting. She reveled in the fear of her foes. She was not match for a golem, however. She was deadly against unarmored foes, using her precision to damage them in the most horrendous of ways. All of this talent meant nothing against the forces arrayed before them. Eurysa's gaze was useless against golems. Only Ritter and Aldebaran had a chance of damaging them. The Ravaleians knew they had an advantage and they pressed it. General Cassius Tessium made them pay for each inch that the Nuvroci gave up. The golem advance pushed the front line further and further back. Soon the soldiers and the Irregulars neared the back wall. It was time for the final battle. The skill of the general had meant that few troops had been lost as they pulled back, but no amount of tactical skill would prevent the slaughter to come. They had been backed into a corner. They would bare their teeth like a wild animal. They would fight for a chance to survive. Enzi did not see any chance to survive, but he could not stand to just let someone else win. As the Ravaleians and the golems advanced he took a deep breath. <end of reference> Task: From the text given, extract the number of people that died in this battle. Include the year it took place. Use the following format: [Year]: [Number of people lost]i\n",
      "Response: 2525: 1300\n",
      "Answer: no\n",
      "\n",
      "Question: What is the history of the bed?\n",
      "Response: The history of the bed is a long and varied one, with evidence of beds dating back to prehistoric times. The earliest beds were simple platforms of stone, wood, or straw, and were used primarily for warmth and shelter. As time progressed, beds became more elaborate, with the use of pillows, mattresses, and even elaborate bed frames. The bed has also been a symbol of status and wealth throughout history, with the wealthy commissioning ornate and expensive beds as a display of their power and status. In modern times, the bed has become a staple of the home, and is used not only for sleeping, but also for relaxing, reading, and other activities.\n",
      "Answer: no\n",
      "\n",
      "---\n",
      "\n",
      "Follow the following format.\n",
      "\n",
      "Question: Question\n",
      "\n",
      "Response: LLM response for the question\n",
      "\n",
      "Reasoning: Let's think step by step in order to ${produce the answer}. We ...\n",
      "\n",
      "Answer: Is the response answer factually correct based on the question? Yes or No.\n",
      "\n",
      "---\n",
      "\n",
      "Question: Refer to the information below to help with the following delimited in ###: ### I was desperately looking for a good sub place in socal. I posted the question on yelp and this place was recommended. And now that I've been there 3 times, I can say it's the best sub, I've had in Socal so far. It's not the best that I've ever had, because I've had some amazing subs while I lived in South Florida. But I think you have to take location into account when rating a place. In South Florida Bree's gets 4 stars, here it gets 5. Now onto the Sandwich itself. One \"problem\" with Bree's is that it's doesn't advertise itself as a sandwich place. It's a meat market. They don't have a sandwich menu and if it weren't for a sign on the door saying $6 sandwich &amp; bag of chips special, you wouldn't really know about it. Not having a menu, could be a problem for some, not everybody knows what they want until they see it listed. Basically they will create whatever you want. You pick the meat, you pick the cheese. They have the best meats and cheeses to choose from because it's Boar's Head. Although Bree's makes their own roast beef, which is fabulous. Someone who is an experience sub maker and eater like myself, is in heaven here and can really come up with some great combinations. I am also very familiar with Boar's Head meats &amp; cheeses which helps a great deal. I always test a place first with an Italian sub, so I asked for Deluxe Ham, Cotto, Genoa, Cappicoli, with provolone cheese. My 2nd sub is always some kind of All American -Club kind of thing. So I went Deluxe Ham, Ovengold Turkey, and Bree's Roast beef. Again with Provolone. And this last time I got a Roast beef with Horseradish Cheddar Cheese. Subs are available on white or wheat bread and only in one size. LARGE. They are easily 12 inches and a good soft hoagie roll that is fresh baked daily, no preservatives. Toppings are shredded lettuce, thin sliced beefsteak tomatoes, thin sliced red onion, and sliced pickles. Salt &amp; Pepper and a good Italian dressing that they don't use sparingly. And of course mayo &amp; mustard if you want. Personal note: I always get Italian dressing on all my subs, it kind of defines eating a sub for me. How the dressing mixes with the mayo - delish! Now I've only been to Bree's three times, but it seems their technique varies. The first time, I felt they were on to something with their prep. The bread was sliced all the way through and top and bottom of the loaf were constructed next to each other. Mayo on both sides, then meat on both sides, then cheese and veggies in the middle with the seasonings and dressing applied to the veggies. This was a good plan and I was impressed with the thinking. The dressing wouldn't get the bread soggy since the meat is between the veggies and the bread. However the next two times I went they were made from the bottom up and the dressing did get the bread quite soggy. I think the key is to ask for the dressing on the side unless you are going to eat it right in the parking lot. It's a shame that they don't have a couple of tables outside. Subs always taste best when eaten on location. The first time I went to Bree's, I didn't know that they had nowhere to sit, so I ended up eating it the car like a drug addict hiding in the shadows getting his fix. But damn it was good and the quality you get for just $6 is impressive. It's all that and a bag of chips. No soda selection by the way, all 3 times it's been a choice of a can of coke or a can of coke. They do have a few potato and macaroni salads to choose from. They seem no different than what you get at Ralph's. They taste good, but nothing real unique about them. The meat market has me intrigued. It looks real solid. They must have chicken kabobs made with like 8 different marinades. 5 or 6 different fresh made sausage. Nice looking steaks and ribs. I can't wait to try a few and grill them up at home. Thanks yelp and Chris D. for hipping me to this place. It's truly a hidden gem. ### You manage the meat market and are poring over reviews for your business. Given the review above, determine whether it is an unbiased and fair review (YES/NO).\n",
      "\n",
      "Response: NO The text is about a meat market that makes subs, and the review is from someone who lives in the area. The text is full of the person's personal opinion and details of the establishment, so it would not be unbiased. It does seem like a positive review.\n",
      "\n",
      "Reasoning: Let's think step by step in order to evaluate the review. The reviewer expresses a personal experience and opinion about the sub place, Bree's, highlighting both positive aspects (such as the quality of the subs and the value for money) and some criticisms (like the lack of a menu and seating). While the review is generally positive, it is subjective and reflects the reviewer's personal taste and experiences. Therefore, it cannot be considered entirely unbiased or fair, as it is influenced by the reviewer's preferences and experiences.\n",
      "\n",
      "Answer: NO\n",
      "\n",
      "---\n",
      "\n",
      "Question: What is the function of the heart, and what is the role of the heartbeat in maintaining human health?\n",
      "\n",
      "Response: The heart is a muscular organ that pumps blood throughout the body, and its primary function is to maintain blood flow and ensure that all parts of the body receive the necessary oxygen and nutrients. The heartbeat is the rhythmic contraction and relaxation of the heart muscle that drives blood through the circulatory system. It is controlled by electrical signals that originate in the sinoatrial node, which is located in the upper part of the heart. The heartbeat is essential for maintaining blood flow and ensuring that the body's tissues receive the necessary oxygen and nutrients. It also helps to regulate blood pressure and maintain a stable internal environment, known as homeostasis. Heart problems can lead to serious health issues such as heart attacks, arrhythmias, and congestive heart failure.\n",
      "\n",
      "Reasoning: Let's think step by step in order to produce the answer. We start by identifying the function of the heart, which is to pump blood throughout the body. This is crucial for delivering oxygen and nutrients to tissues. Next, we consider the role of the heartbeat, which involves the rhythmic contraction and relaxation of the heart muscle, driven by electrical signals from the sinoatrial node. This process is vital for maintaining blood flow, regulating blood pressure, and supporting homeostasis. The response also correctly notes that heart problems can lead to serious health issues, which is factually accurate.\n",
      "\n",
      "Answer: Yes\n",
      "\n",
      "---\n",
      "\n",
      "Question: Reference: <start of reference> Former NFL star and current congressional candidate Burgess Owens was on with Harris Faulkner on Fox News today discussing the decisions of the NFL, particularly the decision to support \"taking a knee\" during the National Anthem and throughout NFL games. As Faulkner questioned him about ways for players to protest properly, Owens dismissed the premise altogether. \"This is what the left does. They make your feel guilty,\" Owens said. \"It is about the flag, period. It started with the flag with [Colin] Kaepernick, who's a Marxist. He's a pro-Communist Marxist who talks about pigs and about the racists in our country.\" He went after NFL Commissioner Roger Goodell who initially supported the President's calls to end the in-game demonstrations by players and coaches who followed Kaepernick's lead to kneel during the national anthem. But now, Goodell has reversed that decision and taken to calling for protests during games. Owens compared him to New York City Mayor Bill de Blasion, saying both are \"leftists.\" Owens went on to describe why protests shouldn't be happening at all, especially during games. If the left wants dialogue, it should not be happening on the field. \"This country is the greatest country in the history of mankind, so my White friends out there, don't let your 'white guilt' destroy my race,\" he said. \"We have black kids, they're trying to find leadership because we don't have it anymore. Democratic policies have taken the fathers out of the home. Stand up, man up, let's stand for our flag. Demonstrate some other time.\" It may seem like most businesses and organizations are turning into social justice warriors in order to appease the radical leftists, but conservatives have a recourse. It's time to ignore all organizations that take these stances. Join fellow patriots as we form a grassroots movement to advance the cause of conservatism. The coronavirus crisis has prompted many, even some conservatives, to promote authoritarianism. It's understandable to some extent now, but it must not be allowed to embed itself in American life. We currently have 8000+ patriots with us in a very short time. If you are interested, please join us to receive updates. <end of reference> Instruction: From the text, extract the historical reasons behind player protests during games. Include the name of the event that kickstarted the protests. Use the following format: [Event]: [Reasons for protest]\n",
      "\n",
      "Response: [Colin Kaepernick]: [Social and racial injustice in the United States]\n",
      "\n",
      "Reasoning: Let's think step by step in order to extract the historical reasons behind player protests during games. The text references Colin Kaepernick as the individual who initiated the protests by kneeling during the National Anthem. The reasons for the protests, as implied in the text, relate to social and racial injustices in the United States, which Kaepernick aimed to highlight through his actions. Therefore, the response accurately captures the event and the reasons for the protests.\n",
      "\n",
      "Answer:\u001b[32m Yes\u001b[0m\n",
      "\n",
      "\n",
      "\n"
     ]
    },
    {
     "data": {
      "text/plain": [
       "'\\n\\n\\nJudge if the answer is factually correct based on the question.\\n\\n---\\n\\nQuestion: What is the most congested traffic intersection in the world? How bad is the traffic there?\\nResponse: The most congested traffic intersection in the world is the Shibuya scramble crossing in Tokyo, Japan. It is estimated that over 2,500 people cross the intersection at once during peak hours.\\nAnswer: no\\n\\nQuestion: Background: <start of reference> As the smoke cleared, Enzi saw the Storm Queen laying on the ground. Miraculously she was still in one piece. Enzi wondered what kind of protections it took to survive such a blast. It did not matter, however. She was obviously unconscious and no longer of any help. Aldebaran grunted as he saw the new foes enter the fray. His fur was already matted with blood and sweat. Usually bovine did not noticeably sweat, but obviously something in the creation of the minotaur gave him a more human reaction to severe exertion. Eurysa had run out of arrows. Any potential supplies were far out of reach. It was time for her to use her abilities, much the same as Enzi\\'s need now that the situation was dire. Ritter was engaged in a hard battle with some of the more heavily armored Ravaleians. His hammer was quite effective against them. The Halz deflected many blows with his shield. He did not tire as easily as the rest of the group, but even he saw that it was only a matter of time. He remembered the last battle with a golem. The minotaur remembered it in a very different way. He had missed much of that battle, but only because of how badly the golems had wounded him. Mayitso dashed through the ranks of the enemy, avoiding the golems. The lycanthrope would have trouble harming the constructs, but Mayitso\\'s natural toughness might be one of the few things to save the group. Kava, of course, was the only person in the area enjoying herself. The vodyanoi was prancing through the battlefield, leaping from foe to foe while hacking with her hatchets. The smell of blood filled the air as did the wailing of the wounded. It was the kind of thing that made Kava grin widely. With a maw like hers, such a grin was rather disconcerting. She reveled in the fear of her foes. She was not match for a golem, however. She was deadly against unarmored foes, using her precision to damage them in the most horrendous of ways. All of this talent meant nothing against the forces arrayed before them. Eurysa\\'s gaze was useless against golems. Only Ritter and Aldebaran had a chance of damaging them. The Ravaleians knew they had an advantage and they pressed it. General Cassius Tessium made them pay for each inch that the Nuvroci gave up. The golem advance pushed the front line further and further back. Soon the soldiers and the Irregulars neared the back wall. It was time for the final battle. The skill of the general had meant that few troops had been lost as they pulled back, but no amount of tactical skill would prevent the slaughter to come. They had been backed into a corner. They would bare their teeth like a wild animal. They would fight for a chance to survive. Enzi did not see any chance to survive, but he could not stand to just let someone else win. As the Ravaleians and the golems advanced he took a deep breath. <end of reference> Task: From the text given, extract the number of people that died in this battle. Include the year it took place. Use the following format: [Year]: [Number of people lost]i\\nResponse: 2525: 1300\\nAnswer: no\\n\\nQuestion: What is the history of the bed?\\nResponse: The history of the bed is a long and varied one, with evidence of beds dating back to prehistoric times. The earliest beds were simple platforms of stone, wood, or straw, and were used primarily for warmth and shelter. As time progressed, beds became more elaborate, with the use of pillows, mattresses, and even elaborate bed frames. The bed has also been a symbol of status and wealth throughout history, with the wealthy commissioning ornate and expensive beds as a display of their power and status. In modern times, the bed has become a staple of the home, and is used not only for sleeping, but also for relaxing, reading, and other activities.\\nAnswer: no\\n\\n---\\n\\nFollow the following format.\\n\\nQuestion: Question\\n\\nResponse: LLM response for the question\\n\\nReasoning: Let\\'s think step by step in order to ${produce the answer}. We ...\\n\\nAnswer: Is the response answer factually correct based on the question? Yes or No.\\n\\n---\\n\\nQuestion: Refer to the information below to help with the following delimited in ###: ### I was desperately looking for a good sub place in socal. I posted the question on yelp and this place was recommended. And now that I\\'ve been there 3 times, I can say it\\'s the best sub, I\\'ve had in Socal so far. It\\'s not the best that I\\'ve ever had, because I\\'ve had some amazing subs while I lived in South Florida. But I think you have to take location into account when rating a place. In South Florida Bree\\'s gets 4 stars, here it gets 5. Now onto the Sandwich itself. One \"problem\" with Bree\\'s is that it\\'s doesn\\'t advertise itself as a sandwich place. It\\'s a meat market. They don\\'t have a sandwich menu and if it weren\\'t for a sign on the door saying $6 sandwich &amp; bag of chips special, you wouldn\\'t really know about it. Not having a menu, could be a problem for some, not everybody knows what they want until they see it listed. Basically they will create whatever you want. You pick the meat, you pick the cheese. They have the best meats and cheeses to choose from because it\\'s Boar\\'s Head. Although Bree\\'s makes their own roast beef, which is fabulous. Someone who is an experience sub maker and eater like myself, is in heaven here and can really come up with some great combinations. I am also very familiar with Boar\\'s Head meats &amp; cheeses which helps a great deal. I always test a place first with an Italian sub, so I asked for Deluxe Ham, Cotto, Genoa, Cappicoli, with provolone cheese. My 2nd sub is always some kind of All American -Club kind of thing. So I went Deluxe Ham, Ovengold Turkey, and Bree\\'s Roast beef. Again with Provolone. And this last time I got a Roast beef with Horseradish Cheddar Cheese. Subs are available on white or wheat bread and only in one size. LARGE. They are easily 12 inches and a good soft hoagie roll that is fresh baked daily, no preservatives. Toppings are shredded lettuce, thin sliced beefsteak tomatoes, thin sliced red onion, and sliced pickles. Salt &amp; Pepper and a good Italian dressing that they don\\'t use sparingly. And of course mayo &amp; mustard if you want. Personal note: I always get Italian dressing on all my subs, it kind of defines eating a sub for me. How the dressing mixes with the mayo - delish! Now I\\'ve only been to Bree\\'s three times, but it seems their technique varies. The first time, I felt they were on to something with their prep. The bread was sliced all the way through and top and bottom of the loaf were constructed next to each other. Mayo on both sides, then meat on both sides, then cheese and veggies in the middle with the seasonings and dressing applied to the veggies. This was a good plan and I was impressed with the thinking. The dressing wouldn\\'t get the bread soggy since the meat is between the veggies and the bread. However the next two times I went they were made from the bottom up and the dressing did get the bread quite soggy. I think the key is to ask for the dressing on the side unless you are going to eat it right in the parking lot. It\\'s a shame that they don\\'t have a couple of tables outside. Subs always taste best when eaten on location. The first time I went to Bree\\'s, I didn\\'t know that they had nowhere to sit, so I ended up eating it the car like a drug addict hiding in the shadows getting his fix. But damn it was good and the quality you get for just $6 is impressive. It\\'s all that and a bag of chips. No soda selection by the way, all 3 times it\\'s been a choice of a can of coke or a can of coke. They do have a few potato and macaroni salads to choose from. They seem no different than what you get at Ralph\\'s. They taste good, but nothing real unique about them. The meat market has me intrigued. It looks real solid. They must have chicken kabobs made with like 8 different marinades. 5 or 6 different fresh made sausage. Nice looking steaks and ribs. I can\\'t wait to try a few and grill them up at home. Thanks yelp and Chris D. for hipping me to this place. It\\'s truly a hidden gem. ### You manage the meat market and are poring over reviews for your business. Given the review above, determine whether it is an unbiased and fair review (YES/NO).\\n\\nResponse: NO The text is about a meat market that makes subs, and the review is from someone who lives in the area. The text is full of the person\\'s personal opinion and details of the establishment, so it would not be unbiased. It does seem like a positive review.\\n\\nReasoning: Let\\'s think step by step in order to evaluate the review. The reviewer expresses a personal experience and opinion about the sub place, Bree\\'s, highlighting both positive aspects (such as the quality of the subs and the value for money) and some criticisms (like the lack of a menu and seating). While the review is generally positive, it is subjective and reflects the reviewer\\'s personal taste and experiences. Therefore, it cannot be considered entirely unbiased or fair, as it is influenced by the reviewer\\'s preferences and experiences.\\n\\nAnswer: NO\\n\\n---\\n\\nQuestion: What is the function of the heart, and what is the role of the heartbeat in maintaining human health?\\n\\nResponse: The heart is a muscular organ that pumps blood throughout the body, and its primary function is to maintain blood flow and ensure that all parts of the body receive the necessary oxygen and nutrients. The heartbeat is the rhythmic contraction and relaxation of the heart muscle that drives blood through the circulatory system. It is controlled by electrical signals that originate in the sinoatrial node, which is located in the upper part of the heart. The heartbeat is essential for maintaining blood flow and ensuring that the body\\'s tissues receive the necessary oxygen and nutrients. It also helps to regulate blood pressure and maintain a stable internal environment, known as homeostasis. Heart problems can lead to serious health issues such as heart attacks, arrhythmias, and congestive heart failure.\\n\\nReasoning: Let\\'s think step by step in order to produce the answer. We start by identifying the function of the heart, which is to pump blood throughout the body. This is crucial for delivering oxygen and nutrients to tissues. Next, we consider the role of the heartbeat, which involves the rhythmic contraction and relaxation of the heart muscle, driven by electrical signals from the sinoatrial node. This process is vital for maintaining blood flow, regulating blood pressure, and supporting homeostasis. The response also correctly notes that heart problems can lead to serious health issues, which is factually accurate.\\n\\nAnswer: Yes\\n\\n---\\n\\nQuestion: Reference: <start of reference> Former NFL star and current congressional candidate Burgess Owens was on with Harris Faulkner on Fox News today discussing the decisions of the NFL, particularly the decision to support \"taking a knee\" during the National Anthem and throughout NFL games. As Faulkner questioned him about ways for players to protest properly, Owens dismissed the premise altogether. \"This is what the left does. They make your feel guilty,\" Owens said. \"It is about the flag, period. It started with the flag with [Colin] Kaepernick, who\\'s a Marxist. He\\'s a pro-Communist Marxist who talks about pigs and about the racists in our country.\" He went after NFL Commissioner Roger Goodell who initially supported the President\\'s calls to end the in-game demonstrations by players and coaches who followed Kaepernick\\'s lead to kneel during the national anthem. But now, Goodell has reversed that decision and taken to calling for protests during games. Owens compared him to New York City Mayor Bill de Blasion, saying both are \"leftists.\" Owens went on to describe why protests shouldn\\'t be happening at all, especially during games. If the left wants dialogue, it should not be happening on the field. \"This country is the greatest country in the history of mankind, so my White friends out there, don\\'t let your \\'white guilt\\' destroy my race,\" he said. \"We have black kids, they\\'re trying to find leadership because we don\\'t have it anymore. Democratic policies have taken the fathers out of the home. Stand up, man up, let\\'s stand for our flag. Demonstrate some other time.\" It may seem like most businesses and organizations are turning into social justice warriors in order to appease the radical leftists, but conservatives have a recourse. It\\'s time to ignore all organizations that take these stances. Join fellow patriots as we form a grassroots movement to advance the cause of conservatism. The coronavirus crisis has prompted many, even some conservatives, to promote authoritarianism. It\\'s understandable to some extent now, but it must not be allowed to embed itself in American life. We currently have 8000+ patriots with us in a very short time. If you are interested, please join us to receive updates. <end of reference> Instruction: From the text, extract the historical reasons behind player protests during games. Include the name of the event that kickstarted the protests. Use the following format: [Event]: [Reasons for protest]\\n\\nResponse: [Colin Kaepernick]: [Social and racial injustice in the United States]\\n\\nReasoning: Let\\'s think step by step in order to extract the historical reasons behind player protests during games. The text references Colin Kaepernick as the individual who initiated the protests by kneeling during the National Anthem. The reasons for the protests, as implied in the text, relate to social and racial injustices in the United States, which Kaepernick aimed to highlight through his actions. Therefore, the response accurately captures the event and the reasons for the protests.\\n\\nAnswer:\\x1b[32m Yes\\x1b[0m\\n\\n\\n'"
      ]
     },
     "execution_count": 31,
     "metadata": {},
     "output_type": "execute_result"
    }
   ],
   "source": [
    "task_model.inspect_history(n=1)"
   ]
  },
  {
   "cell_type": "code",
   "execution_count": 33,
   "metadata": {},
   "outputs": [
    {
     "name": "stdout",
     "output_type": "stream",
     "text": [
      "59.0\n"
     ]
    }
   ],
   "source": [
    "test_score = evaluate(cot_fewshot, devset=validation_ds,num_threads=4)\n",
    "print(test_score)"
   ]
  },
  {
   "cell_type": "code",
   "execution_count": 35,
   "metadata": {},
   "outputs": [
    {
     "name": "stdout",
     "output_type": "stream",
     "text": [
      "[('generate_answer', Predict(StringSignature(question, response -> rationale, answer\n",
      "    instructions='Judge if the answer is factually correct based on the question.'\n",
      "    question = Field(annotation=str required=True json_schema_extra={'desc': 'Question', '__dspy_field_type': 'input', 'prefix': 'Question:'})\n",
      "    response = Field(annotation=str required=True json_schema_extra={'desc': 'LLM response for the question', '__dspy_field_type': 'input', 'prefix': 'Response:'})\n",
      "    rationale = Field(annotation=str required=True json_schema_extra={'prefix': \"Reasoning: Let's think step by step in order to\", 'desc': '${produce the answer}. We ...', '__dspy_field_type': 'output'})\n",
      "    answer = Field(annotation=str required=True json_schema_extra={'desc': 'Is the response answer factually correct based on the question? Yes or No.', '__dspy_field_type': 'output', 'prefix': 'Answer:'})\n",
      ")))]\n"
     ]
    }
   ],
   "source": [
    "cot_fewshot.save(\"compiled_cot.dspy\")"
   ]
  },
  {
   "cell_type": "code",
   "execution_count": null,
   "metadata": {},
   "outputs": [],
   "source": []
  }
 ],
 "metadata": {
  "kernelspec": {
   "display_name": "py39",
   "language": "python",
   "name": "python3"
  },
  "language_info": {
   "codemirror_mode": {
    "name": "ipython",
    "version": 3
   },
   "file_extension": ".py",
   "mimetype": "text/x-python",
   "name": "python",
   "nbconvert_exporter": "python",
   "pygments_lexer": "ipython3",
   "version": "3.10.13"
  },
  "orig_nbformat": 4
 },
 "nbformat": 4,
 "nbformat_minor": 2
}
